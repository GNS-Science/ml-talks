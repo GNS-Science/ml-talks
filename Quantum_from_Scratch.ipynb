{
  "nbformat": 4,
  "nbformat_minor": 0,
  "metadata": {
    "colab": {
      "provenance": []
    },
    "kernelspec": {
      "name": "python3",
      "display_name": "Python 3"
    },
    "language_info": {
      "name": "python"
    }
  },
  "cells": [
    {
      "cell_type": "code",
      "execution_count": 1,
      "metadata": {
        "id": "EyeAfEfE5Ifz"
      },
      "outputs": [],
      "source": [
        "from __future__ import annotations\n",
        "import numpy as np"
      ]
    },
    {
      "cell_type": "markdown",
      "source": [
        "## Basic States and their representations"
      ],
      "metadata": {
        "id": "LRWsCBEIrhVE"
      }
    },
    {
      "cell_type": "code",
      "source": [
        "zero_state: \"|0⟩\" = np.array([\n",
        "    [1], # |0>\n",
        "    [0]  # |1>\n",
        "], dtype=np.cfloat)\n",
        "\n",
        "one_state: \"|1⟩\" = np.array([\n",
        "    [0], # |0>\n",
        "    [1]  # |1>\n",
        "], dtype=np.cfloat)\n",
        "\n",
        "plus_state: \"|+⟩\" = np.array([ # (|0⟩ + |1⟩) / √2\n",
        "    [1], # |0>\n",
        "    [1]  # |1>\n",
        "], dtype=np.cfloat) / np.sqrt(2)\n",
        "\n",
        "minus_state: \"|-⟩\" = np.array([ # (|0⟩ - |1⟩) / √2\n",
        "    [1], # |0>\n",
        "    [-1] # |1>\n",
        "], dtype=np.cfloat) / np.sqrt(2)\n",
        "\n",
        "plus_i_state: \"|+i⟩\" = np.array([ # i * (|0⟩ + |1⟩) / √2\n",
        "    [1j], # |0>\n",
        "    [1j]  # |1>\n",
        "], dtype=np.cfloat) / np.sqrt(2)\n",
        "\n",
        "minus_i_state: \"|-i⟩\" = np.array([ # i * (|0⟩ - |1⟩) / √2\n",
        "    [1j], # |0>\n",
        "    [-1j] # |1>\n",
        "], dtype=np.cfloat) / np.sqrt(2)\n",
        "\n",
        "print(f\"plus_state:\\n{plus_state}\\n\")\n",
        "print(f\"minus_state:\\n{minus_state}\\n\")\n",
        "print(f\"plus_i_state:\\n{plus_i_state}\\n\")\n",
        "print(f\"minus_i_state:\\n{minus_i_state}\\n\")\n",
        "assert np.allclose(plus_state, (zero_state + one_state) / np.sqrt(2))\n",
        "assert np.allclose(minus_state, (zero_state - one_state) / np.sqrt(2))\n",
        "assert np.allclose(plus_i_state, 1j*(zero_state + one_state) / np.sqrt(2))\n",
        "assert np.allclose(minus_i_state, 1j*(zero_state - one_state) / np.sqrt(2))"
      ],
      "metadata": {
        "colab": {
          "base_uri": "https://localhost:8080/"
        },
        "id": "u5SpsCKlPux3",
        "outputId": "4a2c4dc4-6512-4e3c-e4a8-0b03c21663ea"
      },
      "execution_count": 2,
      "outputs": [
        {
          "output_type": "stream",
          "name": "stdout",
          "text": [
            "plus_state:\n",
            "[[0.70710678+0.j]\n",
            " [0.70710678+0.j]]\n",
            "\n",
            "minus_state:\n",
            "[[ 0.70710678+0.j]\n",
            " [-0.70710678+0.j]]\n",
            "\n",
            "plus_i_state:\n",
            "[[0.+0.70710678j]\n",
            " [0.+0.70710678j]]\n",
            "\n",
            "minus_i_state:\n",
            "[[ 0.+0.70710678j]\n",
            " [-0.-0.70710678j]]\n",
            "\n"
          ]
        }
      ]
    },
    {
      "cell_type": "markdown",
      "source": [
        "# Single Qubit Gates\n",
        "The first threee quantum gates correspond to the 3 Pauli Matrices: $X$, $Y$, and $Z$. All three are self inverse because they correspond to rotations of 180 degrees around a complex axis."
      ],
      "metadata": {
        "id": "8ZRoorUGzvMu"
      }
    },
    {
      "cell_type": "code",
      "source": [
        "x_gate = np.array([\n",
        "    [0, 1],\n",
        "    [1, 0]\n",
        "], dtype=np.cfloat)\n",
        "\n",
        "y_gate = np.array([\n",
        "    [0, -1j],\n",
        "    [1j, 0]\n",
        "], dtype=np.cfloat)\n",
        "\n",
        "z_gate = np.array([\n",
        "    [1, 0],\n",
        "    [0, -1]\n",
        "], dtype=np.cfloat)\n",
        "\n",
        "print(f\"|0⟩:\\n{zero_state}\\n\")\n",
        "print(f\"x_gate(|0⟩):\\n{np.matmul(x_gate, zero_state)}\\n\")\n",
        "print(f\"x_gate(x_gate(|0⟩)):\\n{np.matmul(x_gate, np.matmul(x_gate, zero_state))}\\n\")\n",
        "assert np.all(np.matmul(x_gate, np.matmul(x_gate, zero_state)) == zero_state)"
      ],
      "metadata": {
        "colab": {
          "base_uri": "https://localhost:8080/"
        },
        "id": "QLOL0d0az0Rj",
        "outputId": "492433eb-5f9d-4070-a8fd-18da089808d2"
      },
      "execution_count": 3,
      "outputs": [
        {
          "output_type": "stream",
          "name": "stdout",
          "text": [
            "|0⟩:\n",
            "[[1.+0.j]\n",
            " [0.+0.j]]\n",
            "\n",
            "x_gate(|0⟩):\n",
            "[[0.+0.j]\n",
            " [1.+0.j]]\n",
            "\n",
            "x_gate(x_gate(|0⟩)):\n",
            "[[1.+0.j]\n",
            " [0.+0.j]]\n",
            "\n"
          ]
        }
      ]
    },
    {
      "cell_type": "code",
      "source": [
        "print(f\"|0⟩:\\n{zero_state}\\n\")\n",
        "print(f\"y_gate(|0⟩):\\n{np.matmul(y_gate, zero_state)}\\n\")\n",
        "print(f\"y_gate(y_gate(|0⟩)):\\n{np.matmul(y_gate, np.matmul(y_gate, zero_state))}\\n\")\n",
        "assert np.all(np.matmul(y_gate, np.matmul(y_gate, zero_state)) == zero_state)"
      ],
      "metadata": {
        "colab": {
          "base_uri": "https://localhost:8080/"
        },
        "id": "mtUz-dCW2sC6",
        "outputId": "26e136bb-718f-4efb-d047-d5a0e7f463d2"
      },
      "execution_count": 4,
      "outputs": [
        {
          "output_type": "stream",
          "name": "stdout",
          "text": [
            "|0⟩:\n",
            "[[1.+0.j]\n",
            " [0.+0.j]]\n",
            "\n",
            "y_gate(|0⟩):\n",
            "[[0.+0.j]\n",
            " [0.+1.j]]\n",
            "\n",
            "y_gate(y_gate(|0⟩)):\n",
            "[[1.+0.j]\n",
            " [0.+0.j]]\n",
            "\n"
          ]
        }
      ]
    },
    {
      "cell_type": "code",
      "source": [
        "\"\"\"\n",
        "You may notice that when applied to |0⟩ or |1⟩, the z gate only changes the \n",
        "phase of the amplitude but does not change the distribution of amplitude between\n",
        "the states.  This is because |0⟩ and |1⟩ are eigen states of the z gate with |0⟩\n",
        "having an eigen value of 1, and |1⟩ having an eigen value of -1.  \n",
        "\n",
        "The computational basis (the basis formed by the states |0⟩ and |1⟩) is often \n",
        "called the Z-basis.  Any basis is as good as any other.\n",
        "\"\"\"\n",
        "print(f\"|0⟩:\\n{zero_state}\\n\")\n",
        "print(f\"z_gate(|0⟩):\\n{np.matmul(z_gate, zero_state)}\\n\")\n",
        "print()\n",
        "print(f\"|1⟩:\\n{one_state}\\n\")\n",
        "print(f\"z_gate(|1⟩):\\n{np.matmul(z_gate, one_state)}\\n\")"
      ],
      "metadata": {
        "colab": {
          "base_uri": "https://localhost:8080/"
        },
        "id": "yWkjr8-229w-",
        "outputId": "b4d6515d-47a3-49c0-a500-1e85a6d8eaa6"
      },
      "execution_count": null,
      "outputs": [
        {
          "output_type": "stream",
          "name": "stdout",
          "text": [
            "|0⟩:\n",
            "[[1.+0.j]\n",
            " [0.+0.j]]\n",
            "\n",
            "z_gate(|0⟩):\n",
            "[[1.+0.j]\n",
            " [0.+0.j]]\n",
            "\n",
            "\n",
            "|1⟩:\n",
            "[[0.+0.j]\n",
            " [1.+0.j]]\n",
            "\n",
            "z_gate(|1⟩):\n",
            "[[ 0.+0.j]\n",
            " [-1.+0.j]]\n",
            "\n"
          ]
        }
      ]
    },
    {
      "cell_type": "markdown",
      "source": [
        "## Superposition\n",
        "The gates we've dealt with so far can't induce superposition beause they only perform rotations of $\\pi$ around N.  The Hadamard gate $H$ rotates by $\\pi / 4$ "
      ],
      "metadata": {
        "id": "zWaxxwW_-oWw"
      }
    },
    {
      "cell_type": "code",
      "source": [
        "h_gate = np.array([\n",
        "    [1, 1],\n",
        "    [1, -1]\n",
        "], dtype=np.cfloat) / np.sqrt(2)\n",
        "print(f\"{np.linalg.eig(h_gate)}\")\n",
        "print(f\"|0⟩:\\n{zero_state}\\n\")\n",
        "print(f\"h_gate(|0⟩):\\n{np.matmul(h_gate, zero_state)}\\n\")\n",
        "print(f\"h_gate(h_gate(|0⟩)):\\n{np.matmul(h_gate, np.matmul(h_gate, zero_state))}\\n\")\n",
        "print(f\"h_gate(h_gate(h_gate(|0⟩))):\\n{np.matmul(h_gate, np.matmul(h_gate, np.matmul(h_gate, zero_state)))}\\n\")\n",
        "print(f\"h_gate(h_gate(h_gate(h_gate(|0⟩)))):\\n{np.matmul(h_gate, np.matmul(h_gate, np.matmul(h_gate, np.matmul(h_gate, zero_state))))}\\n\")"
      ],
      "metadata": {
        "colab": {
          "base_uri": "https://localhost:8080/"
        },
        "id": "df2BNu1OAZJn",
        "outputId": "14cf0c9d-58f3-4c6e-bc89-cb733e523cfd"
      },
      "execution_count": null,
      "outputs": [
        {
          "output_type": "stream",
          "name": "stdout",
          "text": [
            "(array([ 1.+0.j, -1.+0.j]), array([[ 0.92387953+0.j, -0.38268343+0.j],\n",
            "       [ 0.38268343-0.j,  0.92387953+0.j]]))\n",
            "|0⟩:\n",
            "[[1.+0.j]\n",
            " [0.+0.j]]\n",
            "\n",
            "h_gate(|0⟩):\n",
            "[[0.70710678+0.j]\n",
            " [0.70710678+0.j]]\n",
            "\n",
            "h_gate(h_gate(|0⟩)):\n",
            "[[1.+0.j]\n",
            " [0.+0.j]]\n",
            "\n",
            "h_gate(h_gate(h_gate(|0⟩))):\n",
            "[[0.70710678+0.j]\n",
            " [0.70710678+0.j]]\n",
            "\n",
            "h_gate(h_gate(h_gate(h_gate(|0⟩)))):\n",
            "[[1.+0.j]\n",
            " [0.+0.j]]\n",
            "\n"
          ]
        }
      ]
    },
    {
      "cell_type": "code",
      "source": [
        "def p_gate(phi):\n",
        "    return np.array([\n",
        "        [1, 0],\n",
        "        [0, np.exp(1j * phi)]\n",
        "    ], dtype=np.cfloat)"
      ],
      "metadata": {
        "id": "zHID4yNxB9Bz"
      },
      "execution_count": null,
      "outputs": []
    },
    {
      "cell_type": "markdown",
      "source": [
        "## States of Multiple Qubits\n",
        "A State Vector of $n$ cubits has $2^n$ complex amplitude components."
      ],
      "metadata": {
        "id": "go1VxtV4sWdi"
      }
    },
    {
      "cell_type": "code",
      "source": [
        "zero_2_state: \"|00⟩\" = np.array([\n",
        "  [1], # |00⟩\n",
        "  [0], # |01⟩\n",
        "  [0], # |10⟩\n",
        "  [0]  # |11⟩\n",
        "], dtype=np.cfloat)\n",
        "\n",
        "bell_state: \"(|00⟩ + |11⟩) / √2\" =  np.array([\n",
        "  [1], # |00⟩\n",
        "  [0], # |01⟩\n",
        "  [0], # |10⟩\n",
        "  [1]  # |11⟩\n",
        "], dtype=np.cfloat) / np.sqrt(2)\n",
        "\n",
        "uniformly_uncertain_3_state = np.array([\n",
        "    [1], # |000⟩\n",
        "    [1], # |001⟩\n",
        "    [1], # |010⟩\n",
        "    [1], # |011⟩\n",
        "    [1], # |100⟩\n",
        "    [1], # |101⟩\n",
        "    [1], # |110⟩\n",
        "    [1], # |111⟩\n",
        "], dtype=np.cfloat) / np.sqrt(8)"
      ],
      "metadata": {
        "id": "6AjLnhixL_D5"
      },
      "execution_count": null,
      "outputs": []
    },
    {
      "cell_type": "markdown",
      "source": [
        "## Combining Independent States\n",
        "for independent states $|a⟩$ and $|b⟩$\n",
        "\\begin{align}|ab⟩ = |a⟩ \\otimes |b⟩ = \\begin{bmatrix}a_0 \\times \\begin{bmatrix} b_0 \\\\ \\vdots \\\\ b_n\\end{bmatrix} \\\\ \\vdots \\\\ a_n \\times \\begin{bmatrix} b_0 \\\\ \\vdots \\\\ b_n\\end{bmatrix} \\end{bmatrix}  = \\begin{bmatrix} a_0 b_0 \\\\ \\vdots \\\\ a_0 b_n \\\\ \\vdots \\\\ a_n b_0 \\\\ \\vdots \\\\ a_n b_n \\end{bmatrix}\n",
        "\\end{align}"
      ],
      "metadata": {
        "id": "alMDsUStu0C3"
      }
    },
    {
      "cell_type": "code",
      "source": [
        "def measurement_probability(state, direction):\n",
        "    \"\"\"returns the probability that `state` is observed in `direction`\n",
        "    p( |state> => |direction> ) = | <direction|state> | ^2\"\"\"\n",
        "    return np.sum(np.abs(direction * state)**2)\n",
        "\n",
        "print(f\"p( |0> => |0⟩ ): {measurement_probability(zero_state, zero_state)}\")\n",
        "print(f\"p( |1> => |0⟩ ): {measurement_probability(one_state, zero_state)}\")\n",
        "print(f\"p( |+> => |0⟩ ): {measurement_probability(plus_state, zero_state)}\")\n",
        "print(f\"p( |-> => |0⟩ ): {measurement_probability(minus_state, zero_state)}\")"
      ],
      "metadata": {
        "colab": {
          "base_uri": "https://localhost:8080/"
        },
        "id": "AvQegS_LOmtx",
        "outputId": "78be37e2-d90f-40c5-f936-23866fa7dd9b"
      },
      "execution_count": null,
      "outputs": [
        {
          "output_type": "stream",
          "name": "stdout",
          "text": [
            "p(|0> => |0>): 1.0\n",
            "p(|1> => |0>): 0.0\n",
            "p(|+> => |0>): 0.4999999999999999\n",
            "p(|-> => |0>): 0.4999999999999999\n"
          ]
        }
      ]
    },
    {
      "cell_type": "code",
      "source": [
        "print(f\"p( bell_state => |00⟩ ): {measurement_probability(bell_state, zero_2_state)}\")\n",
        "print(f\"p( bell_state => |01⟩ ): {measurement_probability(bell_state, np.array([[0], [1], [0], [0]]))}\")\n",
        "print(f\"p( bell_state => |10⟩ ): {measurement_probability(bell_state, np.array([[0], [0], [1], [0]]))}\")\n",
        "print(f\"p( bell_state => |11⟩ ): {measurement_probability(bell_state, np.array([[0], [0], [0], [1]]))}\")"
      ],
      "metadata": {
        "colab": {
          "base_uri": "https://localhost:8080/"
        },
        "id": "OqYxvnydo6Su",
        "outputId": "b8923f1a-619c-4fb2-eade-d69b5381189c"
      },
      "execution_count": null,
      "outputs": [
        {
          "output_type": "stream",
          "name": "stdout",
          "text": [
            "p( bell_state => |00> ): 0.4999999999999999\n",
            "p( bell_state => |01> ): 0.0\n",
            "p( bell_state => |10> ): 0.0\n",
            "p( bell_state => |11> ): 0.4999999999999999\n"
          ]
        }
      ]
    },
    {
      "cell_type": "code",
      "source": [
        "cnot = np.array([\n",
        "  [1, 0, 0, 0],\n",
        "  [0, 0, 0, 1],\n",
        "  [0, 0, 1, 0],\n",
        "  [0, 1, 0, 0]\n",
        "])"
      ],
      "metadata": {
        "id": "nQTtPk0LL_wK"
      },
      "execution_count": null,
      "outputs": []
    },
    {
      "cell_type": "code",
      "source": [],
      "metadata": {
        "id": "_UMclKr5_0TD"
      },
      "execution_count": null,
      "outputs": []
    },
    {
      "cell_type": "code",
      "source": [],
      "metadata": {
        "id": "ednv5EMTJ0O9"
      },
      "execution_count": null,
      "outputs": []
    }
  ]
}